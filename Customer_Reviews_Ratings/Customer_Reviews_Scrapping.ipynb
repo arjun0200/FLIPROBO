{
 "cells": [
  {
   "cell_type": "code",
   "execution_count": 1,
   "id": "7dfe283a",
   "metadata": {},
   "outputs": [],
   "source": [
    "# importing important libraris\n",
    "import selenium\n",
    "from selenium import webdriver\n",
    "from selenium.webdriver.common.keys import Keys\n",
    "import pandas as pd\n",
    "import warnings\n",
    "import time\n",
    "warnings.filterwarnings(\"ignore\")\n",
    "import numpy as np\n",
    "from selenium.webdriver.support.ui import WebDriverWait\n",
    "from selenium.webdriver.support import expected_conditions as EC\n",
    "from selenium.webdriver.common.by import By\n",
    "from selenium.common.exceptions import NoSuchElementException, StaleElementReferenceException\n",
    "from selenium.webdriver.chrome.options import Options\n",
    "options = webdriver.ChromeOptions()\n",
    "options. add_experimental_option(\"detach\", True)\n",
    "\n"
   ]
  },
  {
   "cell_type": "code",
   "execution_count": 18,
   "id": "edfc51cc",
   "metadata": {},
   "outputs": [],
   "source": [
    "driver = webdriver.Chrome(\"chromedriver.exe\")"
   ]
  },
  {
   "cell_type": "code",
   "execution_count": 29,
   "id": "82dc7caa",
   "metadata": {},
   "outputs": [],
   "source": [
    "Ratings=[]\n",
    "Full_review=[]\n",
    "Object=[]"
   ]
  },
  {
   "cell_type": "markdown",
   "id": "99f10631",
   "metadata": {},
   "source": [
    "### For laptops"
   ]
  },
  {
   "cell_type": "code",
   "execution_count": 57,
   "id": "463c4d7f",
   "metadata": {},
   "outputs": [],
   "source": [
    "url_laptops= {\"https://www.flipkart.com/apple-macbook-air-m1-8-gb-512-gb-ssd-mac-os-big-sur-z12400092/product-reviews/itmed00b1ed83f15?pid=COMG4ZYZMHKH8FEG&lid=LSTCOMG4ZYZMHKH8FEGFW0SF5&marketplace=FLIPKART\",\n",
    "             \"https://www.flipkart.com/micromax-canvas-laptab-ii-wifi-atom-quad-core-4th-gen-2-gb-32-gb-emmc-storage-windows-10-home-lt777w-2-1-laptop/product-reviews/itmemhre7qdeaayv?pid=COMEMHREYYCSQJZW&lid=LSTCOMEMHREYYCSQJZWV3I8WN&marketplace=FLIPKART\",\n",
    "             \"https://www.flipkart.com/hp-chromebook-mediatek-kompanio-500-4-gb-64-gb-emmc-storage-chrome-os-11a-na0002mu/product-reviews/itm92093a75fc716?pid=COMGYJYYA7FFRXZC&lid=LSTCOMGYJYYA7FFRXZCCUJAJU&marketplace=FLIPKART\"}"
   ]
  },
  {
   "cell_type": "code",
   "execution_count": 60,
   "id": "0e9c28c3",
   "metadata": {},
   "outputs": [],
   "source": [
    "for laptops_url in url_laptops:\n",
    "    driver.get(laptops_url)\n",
    "    \n",
    "    for i in range(0,50): \n",
    "        for j in driver.find_elements_by_xpath(\"//div[@class='_3LWZlK _1BLPMq' or @class='_3LWZlK _32lA32 _1BLPMq' or @class='_3LWZlK _1rdVr6 _1BLPMq']\"):\n",
    "            Ratings.append(j.text)\n",
    "            Object.append(\"Laptop\")\n",
    "            \n",
    "\n",
    "        for k in driver.find_elements_by_xpath(\"//div[@class='t-ZTKy']/div/div\"):\n",
    "            Full_review.append(k.text.replace('\\n',' '))\n",
    "            \n",
    "        \n",
    "\n",
    "        button=driver.find_element_by_xpath(\"//*[contains(text(), 'Next')]\")\n",
    "        driver.execute_script(\"arguments[0].click();\", button)\n",
    "\n",
    "        time.sleep(2)"
   ]
  },
  {
   "cell_type": "code",
   "execution_count": 61,
   "id": "49943def",
   "metadata": {},
   "outputs": [
    {
     "name": "stdout",
     "output_type": "stream",
     "text": [
      "633 633 633\n"
     ]
    }
   ],
   "source": [
    "print(len(Ratings),len(Full_review),len(Object))"
   ]
  },
  {
   "cell_type": "markdown",
   "id": "a7ec3312",
   "metadata": {},
   "source": [
    "### Mobile Phones"
   ]
  },
  {
   "cell_type": "code",
   "execution_count": 65,
   "id": "8bfd384f",
   "metadata": {},
   "outputs": [],
   "source": [
    "urls_mobile_phones={\"https://www.flipkart.com/infinix-hot-12-play-horizon-blue-64-gb/product-reviews/itmd9c1091d0a662?pid=MOBGE2KYCFZA7BRB&lid=LSTMOBGE2KYCFZA7BRBUNTJVL&marketplace=FLIPKART&page=1\"}"
   ]
  },
  {
   "cell_type": "code",
   "execution_count": 66,
   "id": "2a7a0848",
   "metadata": {},
   "outputs": [],
   "source": [
    "for mobile_url in urls_mobile_phones:\n",
    "    driver.get(mobile_url)\n",
    "    \n",
    "    for i in range(0,250): \n",
    "        for j in driver.find_elements_by_xpath(\"//div[@class='_3LWZlK _1BLPMq' or @class='_3LWZlK _32lA32 _1BLPMq' or @class='_3LWZlK _1rdVr6 _1BLPMq']\"):\n",
    "            Ratings.append(j.text)\n",
    "            Object.append(\"Mobile phone\")\n",
    "\n",
    "        for k in driver.find_elements_by_xpath(\"//div[@class='t-ZTKy']/div/div\"):\n",
    "            Full_review.append(k.text.replace('\\n',' '))\n",
    "\n",
    "        try:\n",
    "            button=driver.find_element_by_xpath(\"//*[contains(text(), 'Next')]\")\n",
    "            driver.execute_script(\"arguments[0].click();\", button)\n",
    "        except NoSuchElementException:\n",
    "            pass\n",
    "        time.sleep(2)"
   ]
  },
  {
   "cell_type": "code",
   "execution_count": 67,
   "id": "14a773bc",
   "metadata": {},
   "outputs": [
    {
     "name": "stdout",
     "output_type": "stream",
     "text": [
      "3252 3252 3252\n"
     ]
    }
   ],
   "source": [
    "print(len(Ratings),len(Full_review),len(Object))"
   ]
  },
  {
   "cell_type": "markdown",
   "id": "22ca8f78",
   "metadata": {},
   "source": [
    "### For Headphones"
   ]
  },
  {
   "cell_type": "code",
   "execution_count": 30,
   "id": "c45e1627",
   "metadata": {},
   "outputs": [],
   "source": [
    "urls_headphones={\"https://www.flipkart.com/boat-airdopes-131-upto-15-hours-playback-13mm-drivers-iwp-technology-bluetooth-headset/product-reviews/itmd5a5f3a979df6?pid=ACCG48F2S6F48CSZ&lid=LSTACCG48F2S6F48CSZMGK0CD&marketplace=FLIPKART&page=1\",\n",
    "                }"
   ]
  },
  {
   "cell_type": "code",
   "execution_count": 31,
   "id": "2dec7008",
   "metadata": {},
   "outputs": [
    {
     "ename": "KeyboardInterrupt",
     "evalue": "",
     "output_type": "error",
     "traceback": [
      "\u001b[1;31m---------------------------------------------------------------------------\u001b[0m",
      "\u001b[1;31mKeyboardInterrupt\u001b[0m                         Traceback (most recent call last)",
      "\u001b[1;32m~\\AppData\\Local\\Temp/ipykernel_9564/3379951312.py\u001b[0m in \u001b[0;36m<module>\u001b[1;34m\u001b[0m\n\u001b[0;32m     15\u001b[0m         \u001b[1;32mexcept\u001b[0m \u001b[0mNoSuchElementException\u001b[0m\u001b[1;33m:\u001b[0m\u001b[1;33m\u001b[0m\u001b[1;33m\u001b[0m\u001b[0m\n\u001b[0;32m     16\u001b[0m             \u001b[1;32mpass\u001b[0m\u001b[1;33m\u001b[0m\u001b[1;33m\u001b[0m\u001b[0m\n\u001b[1;32m---> 17\u001b[1;33m         \u001b[0mtime\u001b[0m\u001b[1;33m.\u001b[0m\u001b[0msleep\u001b[0m\u001b[1;33m(\u001b[0m\u001b[1;36m2\u001b[0m\u001b[1;33m)\u001b[0m\u001b[1;33m\u001b[0m\u001b[1;33m\u001b[0m\u001b[0m\n\u001b[0m",
      "\u001b[1;31mKeyboardInterrupt\u001b[0m: "
     ]
    }
   ],
   "source": [
    "for headphones_url in urls_headphones:\n",
    "    driver.get(headphones_url)\n",
    "    \n",
    "    for i in range(0,70): \n",
    "        for j in driver.find_elements_by_xpath(\"//div[@class='_3LWZlK _1BLPMq' or @class='_3LWZlK _32lA32 _1BLPMq' or @class='_3LWZlK _1rdVr6 _1BLPMq']\"):\n",
    "            Ratings.append(j.text)\n",
    "            Object.append(\"Headphone\")\n",
    "\n",
    "        for k in driver.find_elements_by_xpath(\"//div[@class='t-ZTKy']/div/div\"):\n",
    "            Full_review.append(k.text.replace('\\n',' '))\n",
    "\n",
    "        try:\n",
    "            button=driver.find_element_by_xpath(\"//*[contains(text(), 'Next')]\")\n",
    "            driver.execute_script(\"arguments[0].click();\", button)\n",
    "        except NoSuchElementException:\n",
    "            pass\n",
    "        time.sleep(2)"
   ]
  },
  {
   "cell_type": "code",
   "execution_count": null,
   "id": "35d5cf62",
   "metadata": {},
   "outputs": [],
   "source": [
    "urls_headphones = {\"https://www.flipkart.com/boat-bassheads-100-wired-headset/product-reviews/itme5b2ba958e687?pid=ACCF94NHDZAGWDS4&lid=LSTACCF94NHDZAGWDS4VKXQRW&marketplace=FLIPKART&page=70\"}"
   ]
  },
  {
   "cell_type": "code",
   "execution_count": null,
   "id": "881b916b",
   "metadata": {},
   "outputs": [],
   "source": [
    "for headphones_url in urls_headphones:\n",
    "    driver.get(headphones_url)\n",
    "    \n",
    "    for i in range(0,30): \n",
    "        for j in driver.find_elements_by_xpath(\"//div[@class='_3LWZlK _1BLPMq' or @class='_3LWZlK _32lA32 _1BLPMq' or @class='_3LWZlK _1rdVr6 _1BLPMq']\"):\n",
    "            Ratings.append(j.text)\n",
    "            Object.append(\"Headphone\")\n",
    "\n",
    "        for k in driver.find_elements_by_xpath(\"//div[@class='t-ZTKy']/div/div\"):\n",
    "            Full_review.append(k.text.replace('\\n',' '))\n",
    "\n",
    "        try:\n",
    "            button=driver.find_element_by_xpath(\"//*[contains(text(), 'Next')]\")\n",
    "            driver.execute_script(\"arguments[0].click();\", button)\n",
    "        except NoSuchElementException:\n",
    "            pass\n",
    "        time.sleep(2)"
   ]
  },
  {
   "cell_type": "code",
   "execution_count": null,
   "id": "6f17e78a",
   "metadata": {},
   "outputs": [],
   "source": [
    "urls_headphones = {\"https://www.flipkart.com/boat-rockerz-235v2-238-asap-charge-upto-8-hours-playback-bluetooth-headset/product-reviews/itm80b17259c3dfb?pid=ACCFZGAPGBQ7FP8H&lid=LSTACCFZGAPGBQ7FP8HIBD2RK&marketplace=FLIPKART&page=1\"}"
   ]
  },
  {
   "cell_type": "code",
   "execution_count": null,
   "id": "d734c806",
   "metadata": {},
   "outputs": [],
   "source": [
    "for headphones_url in urls_headphones:\n",
    "    driver.get(headphones_url)\n",
    "    \n",
    "    for i in range(0,250): \n",
    "        for j in driver.find_elements_by_xpath(\"//div[@class='_3LWZlK _1BLPMq' or @class='_3LWZlK _32lA32 _1BLPMq' or @class='_3LWZlK _1rdVr6 _1BLPMq']\"):\n",
    "            Ratings.append(j.text)\n",
    "            Object.append(\"Headphone\")\n",
    "\n",
    "        for k in driver.find_elements_by_xpath(\"//div[@class='t-ZTKy']/div/div\"):\n",
    "            Full_review.append(k.text.replace('\\n',' '))\n",
    "\n",
    "        try:\n",
    "            button=driver.find_element_by_xpath(\"//*[contains(text(), 'Next')]\")\n",
    "            driver.execute_script(\"arguments[0].click();\", button)\n",
    "        except NoSuchElementException:\n",
    "            pass\n",
    "        time.sleep(2)"
   ]
  },
  {
   "cell_type": "code",
   "execution_count": null,
   "id": "11cbf859",
   "metadata": {},
   "outputs": [],
   "source": [
    "print(len(Ratings),len(Full_review),len(Object))"
   ]
  },
  {
   "cell_type": "code",
   "execution_count": null,
   "id": "646d910f",
   "metadata": {},
   "outputs": [],
   "source": [
    "urls_headphones = {\"https://www.flipkart.com/boat-rockerz-235v2-238-asap-charge-upto-8-hours-playback-bluetooth-headset/product-reviews/itm80b17259c3dfb?pid=ACCFZGAPGBQ7FP8H&lid=LSTACCFZGAPGBQ7FP8HIBD2RK&marketplace=FLIPKART&page=251\"}"
   ]
  },
  {
   "cell_type": "code",
   "execution_count": null,
   "id": "401e906f",
   "metadata": {},
   "outputs": [],
   "source": [
    "for headphones_url in urls_headphones:\n",
    "    driver.get(headphones_url)\n",
    "    \n",
    "    for i in range(251,700): \n",
    "        for j in driver.find_elements_by_xpath(\"//div[@class='_3LWZlK _1BLPMq' or @class='_3LWZlK _32lA32 _1BLPMq' or @class='_3LWZlK _1rdVr6 _1BLPMq']\"):\n",
    "            Ratings.append(j.text)\n",
    "            Object.append(\"Headphone\")\n",
    "\n",
    "        for k in driver.find_elements_by_xpath(\"//div[@class='t-ZTKy']/div/div\"):\n",
    "            Full_review.append(k.text.replace('\\n',' '))\n",
    "\n",
    "        try:\n",
    "            button=driver.find_element_by_xpath(\"//*[contains(text(), 'Next')]\")\n",
    "            driver.execute_script(\"arguments[0].click();\", button)\n",
    "        except NoSuchElementException:\n",
    "            pass\n",
    "        time.sleep(2)"
   ]
  },
  {
   "cell_type": "code",
   "execution_count": null,
   "id": "c6cbd092",
   "metadata": {},
   "outputs": [],
   "source": [
    "print(len(Ratings),len(Full_review),len(Object))"
   ]
  },
  {
   "cell_type": "code",
   "execution_count": null,
   "id": "5590f468",
   "metadata": {},
   "outputs": [],
   "source": [
    "df = pd.DataFrame({'Ratings': Ratings[:9190], 'Review':Full_review[:9190], 'Product': Object[:9190]})\n",
    "df.head()"
   ]
  },
  {
   "cell_type": "code",
   "execution_count": null,
   "id": "5732a28f",
   "metadata": {},
   "outputs": [],
   "source": [
    "df.to_csv(\"part1.csv\")"
   ]
  },
  {
   "cell_type": "code",
   "execution_count": 61,
   "id": "37f34ac5",
   "metadata": {},
   "outputs": [
    {
     "data": {
      "text/plain": [
       "Index(['Unnamed: 0', 'Ratings', 'Review', 'Product'], dtype='object')"
      ]
     },
     "execution_count": 61,
     "metadata": {},
     "output_type": "execute_result"
    }
   ],
   "source": [
    "df.keys()"
   ]
  },
  {
   "cell_type": "code",
   "execution_count": 62,
   "id": "8876d99d",
   "metadata": {},
   "outputs": [],
   "source": [
    "df = pd.read_csv(\"part1.csv\")\n",
    "df.drop(\"Unnamed: 0\", axis = 1, inplace = True)"
   ]
  },
  {
   "cell_type": "code",
   "execution_count": 63,
   "id": "7f218edf",
   "metadata": {},
   "outputs": [
    {
     "data": {
      "text/html": [
       "<div>\n",
       "<style scoped>\n",
       "    .dataframe tbody tr th:only-of-type {\n",
       "        vertical-align: middle;\n",
       "    }\n",
       "\n",
       "    .dataframe tbody tr th {\n",
       "        vertical-align: top;\n",
       "    }\n",
       "\n",
       "    .dataframe thead th {\n",
       "        text-align: right;\n",
       "    }\n",
       "</style>\n",
       "<table border=\"1\" class=\"dataframe\">\n",
       "  <thead>\n",
       "    <tr style=\"text-align: right;\">\n",
       "      <th></th>\n",
       "      <th>Ratings</th>\n",
       "      <th>Review</th>\n",
       "      <th>Product</th>\n",
       "    </tr>\n",
       "  </thead>\n",
       "  <tbody>\n",
       "    <tr>\n",
       "      <th>0</th>\n",
       "      <td>4</td>\n",
       "      <td>A bit expensive when we compare with today's i...</td>\n",
       "      <td>Laptop</td>\n",
       "    </tr>\n",
       "    <tr>\n",
       "      <th>1</th>\n",
       "      <td>5</td>\n",
       "      <td>Fantastic value for money machine!! Absolute b...</td>\n",
       "      <td>Laptop</td>\n",
       "    </tr>\n",
       "    <tr>\n",
       "      <th>2</th>\n",
       "      <td>5</td>\n",
       "      <td>The best you can get, looks and performance bo...</td>\n",
       "      <td>Laptop</td>\n",
       "    </tr>\n",
       "    <tr>\n",
       "      <th>3</th>\n",
       "      <td>5</td>\n",
       "      <td>Ultimate machine, best laptop I have ever used...</td>\n",
       "      <td>Laptop</td>\n",
       "    </tr>\n",
       "    <tr>\n",
       "      <th>4</th>\n",
       "      <td>5</td>\n",
       "      <td>For everyone, who is planning to buy MBA M1-  ...</td>\n",
       "      <td>Laptop</td>\n",
       "    </tr>\n",
       "  </tbody>\n",
       "</table>\n",
       "</div>"
      ],
      "text/plain": [
       "   Ratings                                             Review Product\n",
       "0        4  A bit expensive when we compare with today's i...  Laptop\n",
       "1        5  Fantastic value for money machine!! Absolute b...  Laptop\n",
       "2        5  The best you can get, looks and performance bo...  Laptop\n",
       "3        5  Ultimate machine, best laptop I have ever used...  Laptop\n",
       "4        5  For everyone, who is planning to buy MBA M1-  ...  Laptop"
      ]
     },
     "execution_count": 63,
     "metadata": {},
     "output_type": "execute_result"
    }
   ],
   "source": [
    "df.head()"
   ]
  },
  {
   "cell_type": "markdown",
   "id": "32ff77db",
   "metadata": {},
   "source": [
    "### Smart Watches"
   ]
  },
  {
   "cell_type": "code",
   "execution_count": 33,
   "id": "e9d4ad7b",
   "metadata": {},
   "outputs": [],
   "source": [
    "urls_smartwatches={\"https://www.flipkart.com/mi-smart-band-3i/product-reviews/itm8f4da1e3fb54d?pid=SBNFMHJGGV26HFRE&lid=LSTSBNFMHJGGV26HFREPEJ7XI&marketplace=FLIPKART&page=1\"}"
   ]
  },
  {
   "cell_type": "code",
   "execution_count": 34,
   "id": "28895886",
   "metadata": {},
   "outputs": [],
   "source": [
    "for url in urls_smartwatches:\n",
    "    driver.get(url)\n",
    "    \n",
    "    for i in range(1,70): \n",
    "        for j in driver.find_elements_by_xpath(\"//div[@class='_3LWZlK _1BLPMq' or @class='_3LWZlK _32lA32 _1BLPMq' or @class='_3LWZlK _1rdVr6 _1BLPMq']\"):\n",
    "            Ratings.append(j.text)\n",
    "            Object.append(\"Headphone\")\n",
    "\n",
    "        for k in driver.find_elements_by_xpath(\"//div[@class='t-ZTKy']/div/div\"):\n",
    "            Full_review.append(k.text.replace('\\n',' '))\n",
    "\n",
    "        try:\n",
    "            button=driver.find_element_by_xpath(\"//*[contains(text(), 'Next')]\")\n",
    "            driver.execute_script(\"arguments[0].click();\", button)\n",
    "        except NoSuchElementException:\n",
    "            pass\n",
    "        time.sleep(2)"
   ]
  },
  {
   "cell_type": "code",
   "execution_count": 35,
   "id": "56ab02da",
   "metadata": {},
   "outputs": [
    {
     "name": "stdout",
     "output_type": "stream",
     "text": [
      "100 100 100\n"
     ]
    }
   ],
   "source": [
    "print(len(Ratings),len(Full_review),len(Object))"
   ]
  },
  {
   "cell_type": "code",
   "execution_count": 36,
   "id": "3c46b9de",
   "metadata": {},
   "outputs": [],
   "source": [
    "urls_smartwatches = {\"https://www.flipkart.com/realme-band-2-large-1-4-hd-display-5atm-water-resistance/product-reviews/itm54e5849bcc4be?pid=SBNG6UUXYFYGZ23M&lid=LSTSBNG6UUXYFYGZ23MXBDMBS&marketplace=FLIPKART&page=1\",\n",
    "                    \"https://www.flipkart.com/mi-smart-band-5/product-reviews/itm68b4c57ae82d7?pid=SBNG3KSFFPVRPN2F&lid=LSTSBNG3KSFFPVRPN2FDDYJTT&marketplace=FLIPKART&page=1\",\n",
    "                    \"https://www.flipkart.com/honor-band-6/product-reviews/itm8d7d61b06dd3e?pid=SBNG36AEV9Z6SHUD&lid=LSTSBNG36AEV9Z6SHUDNRW5EZ&marketplace=FLIPKART&page=1\",\n",
    "                    }"
   ]
  },
  {
   "cell_type": "code",
   "execution_count": 37,
   "id": "b114639e",
   "metadata": {},
   "outputs": [],
   "source": [
    "for url in urls_smartwatches:\n",
    "    driver.get(url)\n",
    "    \n",
    "    for i in range(1,20): \n",
    "        for j in driver.find_elements_by_xpath(\"//div[@class='_3LWZlK _1BLPMq' or @class='_3LWZlK _32lA32 _1BLPMq' or @class='_3LWZlK _1rdVr6 _1BLPMq']\"):\n",
    "            Ratings.append(j.text)\n",
    "            Object.append(\"Headphone\")\n",
    "\n",
    "        for k in driver.find_elements_by_xpath(\"//div[@class='t-ZTKy']/div/div\"):\n",
    "            Full_review.append(k.text.replace('\\n',' '))\n",
    "\n",
    "        try:\n",
    "            button=driver.find_element_by_xpath(\"//*[contains(text(), 'Next')]\")\n",
    "            driver.execute_script(\"arguments[0].click();\", button)\n",
    "        except NoSuchElementException:\n",
    "            pass\n",
    "        time.sleep(2)"
   ]
  },
  {
   "cell_type": "code",
   "execution_count": 38,
   "id": "db0a6f8e",
   "metadata": {},
   "outputs": [
    {
     "name": "stdout",
     "output_type": "stream",
     "text": [
      "558 558 558\n"
     ]
    }
   ],
   "source": [
    "print(len(Ratings),len(Full_review),len(Object))"
   ]
  },
  {
   "cell_type": "markdown",
   "id": "48c1dc1a",
   "metadata": {},
   "source": [
    "### For Cameras"
   ]
  },
  {
   "cell_type": "code",
   "execution_count": 39,
   "id": "150f8559",
   "metadata": {},
   "outputs": [],
   "source": [
    "camera = {\"https://www.flipkart.com/canon-eos-3000d-dslr-camera-1-body-18-55-mm-lens/product-reviews/itm6f665fea97bc2?pid=CAMF3DHJURPEMNRN&lid=LSTCAMF3DHJURPEMNRNEB3BV2&marketplace=FLIPKART&page=1\",\n",
    "         }"
   ]
  },
  {
   "cell_type": "code",
   "execution_count": 40,
   "id": "8803cd1a",
   "metadata": {},
   "outputs": [],
   "source": [
    "for url in camera:\n",
    "    driver.get(url)\n",
    "    \n",
    "    for i in range(1,40): \n",
    "        for j in driver.find_elements_by_xpath(\"//div[@class='_3LWZlK _1BLPMq' or @class='_3LWZlK _32lA32 _1BLPMq' or @class='_3LWZlK _1rdVr6 _1BLPMq']\"):\n",
    "            Ratings.append(j.text)\n",
    "            Object.append(\"camera\")\n",
    "\n",
    "        for k in driver.find_elements_by_xpath(\"//div[@class='t-ZTKy']/div/div\"):\n",
    "            Full_review.append(k.text.replace('\\n',' '))\n",
    "\n",
    "        try:\n",
    "            button=driver.find_element_by_xpath(\"//*[contains(text(), 'Next')]\")\n",
    "            driver.execute_script(\"arguments[0].click();\", button)\n",
    "        except NoSuchElementException:\n",
    "            pass\n",
    "        time.sleep(2)"
   ]
  },
  {
   "cell_type": "code",
   "execution_count": 41,
   "id": "6beccba9",
   "metadata": {},
   "outputs": [],
   "source": [
    "camera = {'https://www.flipkart.com/canon-eos-200d-ii-dslr-camera-ef-s18-55mm-stm/product-reviews/itm5d6e44f7fd976?pid=DLLFFNVDYGQN9XCS&lid=LSTDLLFFNVDYGQN9XCSHGLIRR&marketplace=FLIPKART&page=1'}"
   ]
  },
  {
   "cell_type": "code",
   "execution_count": 42,
   "id": "cc600707",
   "metadata": {},
   "outputs": [],
   "source": [
    "for url in camera:\n",
    "    driver.get(url)\n",
    "    \n",
    "    for i in range(1,30): \n",
    "        for j in driver.find_elements_by_xpath(\"//div[@class='_3LWZlK _1BLPMq' or @class='_3LWZlK _32lA32 _1BLPMq' or @class='_3LWZlK _1rdVr6 _1BLPMq']\"):\n",
    "            Ratings.append(j.text)\n",
    "            Object.append(\"camera\")\n",
    "\n",
    "        for k in driver.find_elements_by_xpath(\"//div[@class='t-ZTKy']/div/div\"):\n",
    "            Full_review.append(k.text.replace('\\n',' '))\n",
    "\n",
    "        try:\n",
    "            button=driver.find_element_by_xpath(\"//*[contains(text(), 'Next')]\")\n",
    "            driver.execute_script(\"arguments[0].click();\", button)\n",
    "        except NoSuchElementException:\n",
    "            pass\n",
    "        time.sleep(2)"
   ]
  },
  {
   "cell_type": "code",
   "execution_count": 43,
   "id": "9a90ada2",
   "metadata": {},
   "outputs": [],
   "source": [
    "camera = {\"https://www.flipkart.com/canon-eos-1500d-dslr-camera-body-18-55-mm-ii-lens/product-reviews/itm033175ceb4ddd?pid=DLLFAEWE22ZAERXG&lid=LSTDLLFAEWE22ZAERXG6ZIWRV&marketplace=FLIPKART&page=1\"}"
   ]
  },
  {
   "cell_type": "code",
   "execution_count": 44,
   "id": "99d8d320",
   "metadata": {},
   "outputs": [],
   "source": [
    "for url in camera:\n",
    "    driver.get(url)\n",
    "    \n",
    "    for i in range(1,40): \n",
    "        for j in driver.find_elements_by_xpath(\"//div[@class='_3LWZlK _1BLPMq' or @class='_3LWZlK _32lA32 _1BLPMq' or @class='_3LWZlK _1rdVr6 _1BLPMq']\"):\n",
    "            Ratings.append(j.text)\n",
    "            Object.append(\"camera\")\n",
    "\n",
    "        for k in driver.find_elements_by_xpath(\"//div[@class='t-ZTKy']/div/div\"):\n",
    "            Full_review.append(k.text.replace('\\n',' '))\n",
    "\n",
    "        try:\n",
    "            button=driver.find_element_by_xpath(\"//*[contains(text(), 'Next')]\")\n",
    "            driver.execute_script(\"arguments[0].click();\", button)\n",
    "        except NoSuchElementException:\n",
    "            pass\n",
    "        time.sleep(2)"
   ]
  },
  {
   "cell_type": "code",
   "execution_count": 45,
   "id": "ecea8da1",
   "metadata": {},
   "outputs": [],
   "source": [
    "camera = {'https://www.flipkart.com/canon-eos-3000d-dslr-camera-1-body-18-55-mm-lens/product-reviews/itm6f665fea97bc2?pid=CAMF3DHJURPEMNRN&lid=LSTCAMF3DHJURPEMNRN5POEJU&marketplace=FLIPKART&page=40'}"
   ]
  },
  {
   "cell_type": "code",
   "execution_count": 46,
   "id": "bb6d6cc9",
   "metadata": {},
   "outputs": [],
   "source": [
    "for url in camera:\n",
    "    driver.get(url)\n",
    "    \n",
    "    for i in range(1,40): \n",
    "        for j in driver.find_elements_by_xpath(\"//div[@class='_3LWZlK _1BLPMq' or @class='_3LWZlK _32lA32 _1BLPMq' or @class='_3LWZlK _1rdVr6 _1BLPMq']\"):\n",
    "            Ratings.append(j.text)\n",
    "            Object.append(\"camera\")\n",
    "\n",
    "        for k in driver.find_elements_by_xpath(\"//div[@class='t-ZTKy']/div/div\"):\n",
    "            Full_review.append(k.text.replace('\\n',' '))\n",
    "\n",
    "        try:\n",
    "            button=driver.find_element_by_xpath(\"//*[contains(text(), 'Next')]\")\n",
    "            driver.execute_script(\"arguments[0].click();\", button)\n",
    "        except NoSuchElementException:\n",
    "            pass\n",
    "        time.sleep(2)"
   ]
  },
  {
   "cell_type": "code",
   "execution_count": 47,
   "id": "2a289161",
   "metadata": {},
   "outputs": [
    {
     "name": "stdout",
     "output_type": "stream",
     "text": [
      "2018 2018 2018\n"
     ]
    }
   ],
   "source": [
    "print(len(Ratings),len(Full_review),len(Object))"
   ]
  },
  {
   "cell_type": "code",
   "execution_count": 50,
   "id": "1b9e6973",
   "metadata": {},
   "outputs": [],
   "source": [
    "tv = {\"https://www.flipkart.com/mi-5a-80-cm-32-inch-hd-ready-led-smart-android-tv-dolby-audio-2022-model/product-reviews/itm98501ffa297ba?pid=TVSGD5CS2SDUUZGN&lid=LSTTVSGD5CS2SDUUZGNWGZUUA&marketplace=FLIPKART&page=1\"}"
   ]
  },
  {
   "cell_type": "code",
   "execution_count": 51,
   "id": "390e2a4e",
   "metadata": {},
   "outputs": [],
   "source": [
    "for url in tv:\n",
    "    driver.get(url)\n",
    "    \n",
    "    for i in range(1,980): \n",
    "        for j in driver.find_elements_by_xpath(\"//div[@class='_3LWZlK _1BLPMq' or @class='_3LWZlK _32lA32 _1BLPMq' or @class='_3LWZlK _1rdVr6 _1BLPMq']\"):\n",
    "            Ratings.append(j.text)\n",
    "            Object.append(\"TV\")\n",
    "\n",
    "        for k in driver.find_elements_by_xpath(\"//div[@class='t-ZTKy']/div/div\"):\n",
    "            Full_review.append(k.text.replace('\\n',' '))\n",
    "\n",
    "        try:\n",
    "            button=driver.find_element_by_xpath(\"//*[contains(text(), 'Next')]\")\n",
    "            driver.execute_script(\"arguments[0].click();\", button)\n",
    "        except NoSuchElementException:\n",
    "            pass\n",
    "        time.sleep(2)"
   ]
  },
  {
   "cell_type": "code",
   "execution_count": 52,
   "id": "508eb3c7",
   "metadata": {},
   "outputs": [
    {
     "name": "stdout",
     "output_type": "stream",
     "text": [
      "19721 19711 19721\n"
     ]
    }
   ],
   "source": [
    "print(len(Ratings),len(Full_review),len(Object))"
   ]
  },
  {
   "cell_type": "code",
   "execution_count": 80,
   "id": "8f5439d9",
   "metadata": {},
   "outputs": [
    {
     "data": {
      "text/html": [
       "<div>\n",
       "<style scoped>\n",
       "    .dataframe tbody tr th:only-of-type {\n",
       "        vertical-align: middle;\n",
       "    }\n",
       "\n",
       "    .dataframe tbody tr th {\n",
       "        vertical-align: top;\n",
       "    }\n",
       "\n",
       "    .dataframe thead th {\n",
       "        text-align: right;\n",
       "    }\n",
       "</style>\n",
       "<table border=\"1\" class=\"dataframe\">\n",
       "  <thead>\n",
       "    <tr style=\"text-align: right;\">\n",
       "      <th></th>\n",
       "      <th>Ratings</th>\n",
       "      <th>Review</th>\n",
       "      <th>Product</th>\n",
       "    </tr>\n",
       "  </thead>\n",
       "  <tbody>\n",
       "    <tr>\n",
       "      <th>0</th>\n",
       "      <td>5</td>\n",
       "      <td>I hope you guys find this review helpful, well...</td>\n",
       "      <td>Headphone</td>\n",
       "    </tr>\n",
       "    <tr>\n",
       "      <th>1</th>\n",
       "      <td>4</td>\n",
       "      <td>Fabulous in this range..  1. Sound quality is ...</td>\n",
       "      <td>Headphone</td>\n",
       "    </tr>\n",
       "    <tr>\n",
       "      <th>2</th>\n",
       "      <td>5</td>\n",
       "      <td>I never bought any kind of Bluetooth pairs, th...</td>\n",
       "      <td>Headphone</td>\n",
       "    </tr>\n",
       "    <tr>\n",
       "      <th>3</th>\n",
       "      <td>5</td>\n",
       "      <td>(1) Worth of the money 💰 (2) Nice design &amp; com...</td>\n",
       "      <td>Headphone</td>\n",
       "    </tr>\n",
       "    <tr>\n",
       "      <th>4</th>\n",
       "      <td>4</td>\n",
       "      <td>Nice and smooth quality earbuds of boats. I am...</td>\n",
       "      <td>Headphone</td>\n",
       "    </tr>\n",
       "    <tr>\n",
       "      <th>...</th>\n",
       "      <td>...</td>\n",
       "      <td>...</td>\n",
       "      <td>...</td>\n",
       "    </tr>\n",
       "    <tr>\n",
       "      <th>19695</th>\n",
       "      <td>5</td>\n",
       "      <td>Good product</td>\n",
       "      <td>TV</td>\n",
       "    </tr>\n",
       "    <tr>\n",
       "      <th>19696</th>\n",
       "      <td>5</td>\n",
       "      <td>Connectivity is the issue</td>\n",
       "      <td>TV</td>\n",
       "    </tr>\n",
       "    <tr>\n",
       "      <th>19697</th>\n",
       "      <td>5</td>\n",
       "      <td>Good product</td>\n",
       "      <td>TV</td>\n",
       "    </tr>\n",
       "    <tr>\n",
       "      <th>19698</th>\n",
       "      <td>4</td>\n",
       "      <td>Good product</td>\n",
       "      <td>TV</td>\n",
       "    </tr>\n",
       "    <tr>\n",
       "      <th>19699</th>\n",
       "      <td>5</td>\n",
       "      <td>The installation was not done by the team.</td>\n",
       "      <td>TV</td>\n",
       "    </tr>\n",
       "  </tbody>\n",
       "</table>\n",
       "<p>19700 rows × 3 columns</p>\n",
       "</div>"
      ],
      "text/plain": [
       "      Ratings                                             Review    Product\n",
       "0           5  I hope you guys find this review helpful, well...  Headphone\n",
       "1           4  Fabulous in this range..  1. Sound quality is ...  Headphone\n",
       "2           5  I never bought any kind of Bluetooth pairs, th...  Headphone\n",
       "3           5  (1) Worth of the money 💰 (2) Nice design & com...  Headphone\n",
       "4           4  Nice and smooth quality earbuds of boats. I am...  Headphone\n",
       "...       ...                                                ...        ...\n",
       "19695       5                                       Good product         TV\n",
       "19696       5                          Connectivity is the issue         TV\n",
       "19697       5                                       Good product         TV\n",
       "19698       4                                       Good product         TV\n",
       "19699       5         The installation was not done by the team.         TV\n",
       "\n",
       "[19700 rows x 3 columns]"
      ]
     },
     "execution_count": 80,
     "metadata": {},
     "output_type": "execute_result"
    }
   ],
   "source": [
    "df2 = pd.DataFrame({'Ratings': Ratings[:19700], 'Review':Full_review[:19700], 'Product': Object[:19700]})\n",
    "df2"
   ]
  },
  {
   "cell_type": "code",
   "execution_count": 56,
   "id": "543f58f5",
   "metadata": {},
   "outputs": [],
   "source": [
    "df2.to_csv(\"part2.csv\")"
   ]
  },
  {
   "cell_type": "markdown",
   "id": "904b4251",
   "metadata": {},
   "source": [
    "### For Printers"
   ]
  },
  {
   "cell_type": "code",
   "execution_count": 81,
   "id": "cb53c162",
   "metadata": {},
   "outputs": [],
   "source": [
    "printers = {\"https://www.flipkart.com/canon-pixma-e3370-multi-function-wifi-color-printer-borderless-printing/product-reviews/itm2e6c7d964ef40?pid=PRNFMSFZRUAHGYJZ&lid=LSTPRNFMSFZRUAHGYJZZBPK8C&marketplace=FLIPKART&page=1\",\n",
    "           \"https://www.flipkart.com/hp-deskjet-2331-multi-function-color-printer/product-reviews/itm5708dbe303a73?pid=PRNFTXAWZ9DZ2KHR&lid=LSTPRNFTXAWZ9DZ2KHRNUI3EX&marketplace=FLIPKART&page=1\",\n",
    "           \"https://www.flipkart.com/epson-l3200-multi-function-color-printer/product-reviews/itma27d0926a8858?pid=PRNG87QJXY9HPYUJ&lid=LSTPRNG87QJXY9HPYUJDEHFGU&marketplace=FLIPKART&page=1\",\n",
    "           \"https://www.flipkart.com/hp-ink-tank-319-multi-function-color-printer-color-page-cost-20-paise-black-10-paise/product-reviews/itma67a2ec1bf894?pid=PRNF6KYPAMTXEUDQ&lid=LSTPRNF6KYPAMTXEUDQIUSVCP&marketplace=FLIPKART&page=1\"}"
   ]
  },
  {
   "cell_type": "code",
   "execution_count": 82,
   "id": "60211b1a",
   "metadata": {},
   "outputs": [],
   "source": [
    "for url in printers:\n",
    "    driver.get(url)\n",
    "    \n",
    "    for i in range(1,20): \n",
    "        for j in driver.find_elements_by_xpath(\"//div[@class='_3LWZlK _1BLPMq' or @class='_3LWZlK _32lA32 _1BLPMq' or @class='_3LWZlK _1rdVr6 _1BLPMq']\"):\n",
    "            Ratings.append(j.text)\n",
    "            Object.append(\"printers\")\n",
    "\n",
    "        for k in driver.find_elements_by_xpath(\"//div[@class='t-ZTKy']/div/div\"):\n",
    "            Full_review.append(k.text.replace('\\n',' '))\n",
    "\n",
    "        try:\n",
    "            button=driver.find_element_by_xpath(\"//*[contains(text(), 'Next')]\")\n",
    "            driver.execute_script(\"arguments[0].click();\", button)\n",
    "        except NoSuchElementException:\n",
    "            pass\n",
    "        time.sleep(2)"
   ]
  },
  {
   "cell_type": "markdown",
   "id": "305df56c",
   "metadata": {},
   "source": [
    "### For Monitors"
   ]
  },
  {
   "cell_type": "code",
   "execution_count": 83,
   "id": "dbeb730f",
   "metadata": {},
   "outputs": [],
   "source": [
    "monitors = {\"https://www.flipkart.com/lenovo-23-8-inch-full-hd-va-panel-3-side-near-edgeless-tuv-eye-care-monitor-d24-20/product-reviews/itm8f8c6bfc86fb5?pid=MONFV5HRNF4QFVG4&lid=LSTMONFV5HRNF4QFVG4ATFEMN&marketplace=FLIPKART&page=1\",\n",
    "           \"https://www.flipkart.com/samsung-22-inch-full-hd-ips-panel-monitor-lf22t354fhwxxl/product-reviews/itm8dcc388bd901f?pid=MONGAQTQKCEZGVSC&lid=LSTMONGAQTQKCEZGVSCG4LB7V&marketplace=FLIPKART&page=1\",\n",
    "           \"https://www.flipkart.com/acer-21-5-inch-full-hd-ips-panel-white-color-ultra-slim-monitor-ha220q/product-reviews/itmfdfdjxg7gdzpf?pid=MONFDFDJVFMGY9NV&lid=LSTMONFDFDJVFMGY9NVV7ABPJ&marketplace=FLIPKART&page=1\",\n",
    "           \"https://www.flipkart.com/acer-v196hql-18-5-inch-led-backlit-lcd-monitor/product-reviews/itm75a2889dc89bd?pid=MONDV8H3WCPDXZYR&lid=LSTMONDV8H3WCPDXZYRJ8BXHW&marketplace=FLIPKART&page=1\"}"
   ]
  },
  {
   "cell_type": "code",
   "execution_count": 84,
   "id": "95004e37",
   "metadata": {},
   "outputs": [],
   "source": [
    "for url in monitors:\n",
    "    driver.get(url)\n",
    "    \n",
    "    for i in range(1,20): \n",
    "        for j in driver.find_elements_by_xpath(\"//div[@class='_3LWZlK _1BLPMq' or @class='_3LWZlK _32lA32 _1BLPMq' or @class='_3LWZlK _1rdVr6 _1BLPMq']\"):\n",
    "            Ratings.append(j.text)\n",
    "            Object.append(\"monitors\")\n",
    "\n",
    "        for k in driver.find_elements_by_xpath(\"//div[@class='t-ZTKy']/div/div\"):\n",
    "            Full_review.append(k.text.replace('\\n',' '))\n",
    "\n",
    "        try:\n",
    "            button=driver.find_element_by_xpath(\"//*[contains(text(), 'Next')]\")\n",
    "            driver.execute_script(\"arguments[0].click();\", button)\n",
    "        except NoSuchElementException:\n",
    "            pass\n",
    "        time.sleep(2)"
   ]
  },
  {
   "cell_type": "markdown",
   "id": "c0114e9f",
   "metadata": {},
   "source": [
    "### For Routers"
   ]
  },
  {
   "cell_type": "code",
   "execution_count": 85,
   "id": "dd8fb0d2",
   "metadata": {},
   "outputs": [],
   "source": [
    "routers = {\"https://www.flipkart.com/tp-link-tl-wr841n-300mbps-wireless-n-router/product-reviews/itmf48vgyfyx8m4f?pid=RTRD7HN3JJYF6WN2&lid=LSTRTRD7HN3JJYF6WN2EFCSN8&marketplace=FLIPKART&page=1\",\n",
    "          }"
   ]
  },
  {
   "cell_type": "code",
   "execution_count": 86,
   "id": "ca388909",
   "metadata": {},
   "outputs": [],
   "source": [
    "for url in routers:\n",
    "    driver.get(url)\n",
    "    \n",
    "    for i in range(1,20): \n",
    "        for j in driver.find_elements_by_xpath(\"//div[@class='_3LWZlK _1BLPMq' or @class='_3LWZlK _32lA32 _1BLPMq' or @class='_3LWZlK _1rdVr6 _1BLPMq']\"):\n",
    "            Ratings.append(j.text)\n",
    "            Object.append(\"routers\")\n",
    "\n",
    "        for k in driver.find_elements_by_xpath(\"//div[@class='t-ZTKy']/div/div\"):\n",
    "            Full_review.append(k.text.replace('\\n',' '))\n",
    "\n",
    "        try:\n",
    "            button=driver.find_element_by_xpath(\"//*[contains(text(), 'Next')]\")\n",
    "            driver.execute_script(\"arguments[0].click();\", button)\n",
    "        except NoSuchElementException:\n",
    "            pass\n",
    "        time.sleep(2)"
   ]
  },
  {
   "cell_type": "code",
   "execution_count": 87,
   "id": "9fdd451e",
   "metadata": {},
   "outputs": [
    {
     "name": "stdout",
     "output_type": "stream",
     "text": [
      "21278 21268 21278\n"
     ]
    }
   ],
   "source": [
    "print(len(Ratings),len(Full_review),len(Object))"
   ]
  },
  {
   "cell_type": "code",
   "execution_count": 88,
   "id": "f554349f",
   "metadata": {},
   "outputs": [
    {
     "data": {
      "text/html": [
       "<div>\n",
       "<style scoped>\n",
       "    .dataframe tbody tr th:only-of-type {\n",
       "        vertical-align: middle;\n",
       "    }\n",
       "\n",
       "    .dataframe tbody tr th {\n",
       "        vertical-align: top;\n",
       "    }\n",
       "\n",
       "    .dataframe thead th {\n",
       "        text-align: right;\n",
       "    }\n",
       "</style>\n",
       "<table border=\"1\" class=\"dataframe\">\n",
       "  <thead>\n",
       "    <tr style=\"text-align: right;\">\n",
       "      <th></th>\n",
       "      <th>Ratings</th>\n",
       "      <th>Review</th>\n",
       "      <th>Product</th>\n",
       "    </tr>\n",
       "  </thead>\n",
       "  <tbody>\n",
       "    <tr>\n",
       "      <th>0</th>\n",
       "      <td>5</td>\n",
       "      <td>I hope you guys find this review helpful, well...</td>\n",
       "      <td>Headphone</td>\n",
       "    </tr>\n",
       "    <tr>\n",
       "      <th>1</th>\n",
       "      <td>4</td>\n",
       "      <td>Fabulous in this range..  1. Sound quality is ...</td>\n",
       "      <td>Headphone</td>\n",
       "    </tr>\n",
       "    <tr>\n",
       "      <th>2</th>\n",
       "      <td>5</td>\n",
       "      <td>I never bought any kind of Bluetooth pairs, th...</td>\n",
       "      <td>Headphone</td>\n",
       "    </tr>\n",
       "    <tr>\n",
       "      <th>3</th>\n",
       "      <td>5</td>\n",
       "      <td>(1) Worth of the money 💰 (2) Nice design &amp; com...</td>\n",
       "      <td>Headphone</td>\n",
       "    </tr>\n",
       "    <tr>\n",
       "      <th>4</th>\n",
       "      <td>4</td>\n",
       "      <td>Nice and smooth quality earbuds of boats. I am...</td>\n",
       "      <td>Headphone</td>\n",
       "    </tr>\n",
       "    <tr>\n",
       "      <th>...</th>\n",
       "      <td>...</td>\n",
       "      <td>...</td>\n",
       "      <td>...</td>\n",
       "    </tr>\n",
       "    <tr>\n",
       "      <th>21255</th>\n",
       "      <td>5</td>\n",
       "      <td>It's a good one ..I have been using it for a y...</td>\n",
       "      <td>routers</td>\n",
       "    </tr>\n",
       "    <tr>\n",
       "      <th>21256</th>\n",
       "      <td>5</td>\n",
       "      <td>Nice router at the cheapest price. Work perfec...</td>\n",
       "      <td>routers</td>\n",
       "    </tr>\n",
       "    <tr>\n",
       "      <th>21257</th>\n",
       "      <td>5</td>\n",
       "      <td>Such a great product works perfectly and very ...</td>\n",
       "      <td>routers</td>\n",
       "    </tr>\n",
       "    <tr>\n",
       "      <th>21258</th>\n",
       "      <td>5</td>\n",
       "      <td>I have been using tp - 300 N from 5 years. Sti...</td>\n",
       "      <td>routers</td>\n",
       "    </tr>\n",
       "    <tr>\n",
       "      <th>21259</th>\n",
       "      <td>4</td>\n",
       "      <td>Very nice router. Speed is well to use for str...</td>\n",
       "      <td>routers</td>\n",
       "    </tr>\n",
       "  </tbody>\n",
       "</table>\n",
       "<p>21260 rows × 3 columns</p>\n",
       "</div>"
      ],
      "text/plain": [
       "      Ratings                                             Review    Product\n",
       "0           5  I hope you guys find this review helpful, well...  Headphone\n",
       "1           4  Fabulous in this range..  1. Sound quality is ...  Headphone\n",
       "2           5  I never bought any kind of Bluetooth pairs, th...  Headphone\n",
       "3           5  (1) Worth of the money 💰 (2) Nice design & com...  Headphone\n",
       "4           4  Nice and smooth quality earbuds of boats. I am...  Headphone\n",
       "...       ...                                                ...        ...\n",
       "21255       5  It's a good one ..I have been using it for a y...    routers\n",
       "21256       5  Nice router at the cheapest price. Work perfec...    routers\n",
       "21257       5  Such a great product works perfectly and very ...    routers\n",
       "21258       5  I have been using tp - 300 N from 5 years. Sti...    routers\n",
       "21259       4  Very nice router. Speed is well to use for str...    routers\n",
       "\n",
       "[21260 rows x 3 columns]"
      ]
     },
     "execution_count": 88,
     "metadata": {},
     "output_type": "execute_result"
    }
   ],
   "source": [
    "df2 = pd.DataFrame({'Ratings': Ratings[:21260], 'Review':Full_review[:21260], 'Product': Object[:21260]})\n",
    "df2"
   ]
  },
  {
   "cell_type": "code",
   "execution_count": 89,
   "id": "7bd50d5f",
   "metadata": {},
   "outputs": [],
   "source": [
    "df_fin = pd.DataFrame()"
   ]
  },
  {
   "cell_type": "code",
   "execution_count": 90,
   "id": "2baaf0a2",
   "metadata": {},
   "outputs": [],
   "source": [
    "df_final = df_fin.append(df)"
   ]
  },
  {
   "cell_type": "code",
   "execution_count": 91,
   "id": "d1606a1c",
   "metadata": {},
   "outputs": [],
   "source": [
    "df_final = df_final.append(df2)"
   ]
  },
  {
   "cell_type": "code",
   "execution_count": 92,
   "id": "d6a1c426",
   "metadata": {},
   "outputs": [
    {
     "data": {
      "text/plain": [
       "(30450, 3)"
      ]
     },
     "execution_count": 92,
     "metadata": {},
     "output_type": "execute_result"
    }
   ],
   "source": [
    "df_final.shape"
   ]
  },
  {
   "cell_type": "code",
   "execution_count": 93,
   "id": "c79bc2bd",
   "metadata": {},
   "outputs": [
    {
     "data": {
      "text/plain": [
       "TV              17703\n",
       "Headphone        6496\n",
       "Mobile phone     2619\n",
       "camera           1460\n",
       "printers          760\n",
       "Laptop            633\n",
       "monitors          607\n",
       "routers           172\n",
       "Name: Product, dtype: int64"
      ]
     },
     "execution_count": 93,
     "metadata": {},
     "output_type": "execute_result"
    }
   ],
   "source": [
    "df_final.Product.value_counts()"
   ]
  },
  {
   "cell_type": "code",
   "execution_count": 94,
   "id": "036dc047",
   "metadata": {},
   "outputs": [],
   "source": [
    "df_final.to_csv(\"Reviews.csv\")"
   ]
  },
  {
   "cell_type": "code",
   "execution_count": null,
   "id": "0981ae54",
   "metadata": {},
   "outputs": [],
   "source": []
  }
 ],
 "metadata": {
  "kernelspec": {
   "display_name": "Python 3 (ipykernel)",
   "language": "python",
   "name": "python3"
  },
  "language_info": {
   "codemirror_mode": {
    "name": "ipython",
    "version": 3
   },
   "file_extension": ".py",
   "mimetype": "text/x-python",
   "name": "python",
   "nbconvert_exporter": "python",
   "pygments_lexer": "ipython3",
   "version": "3.7.3"
  }
 },
 "nbformat": 4,
 "nbformat_minor": 5
}
