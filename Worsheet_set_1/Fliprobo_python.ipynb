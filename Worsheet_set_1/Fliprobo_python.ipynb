{
 "cells": [
  {
   "cell_type": "markdown",
   "id": "e359c332",
   "metadata": {},
   "source": [
    "# 11. Write a python program to find the factorial of a number. "
   ]
  },
  {
   "cell_type": "code",
   "execution_count": 1,
   "id": "46b4a17c",
   "metadata": {},
   "outputs": [
    {
     "name": "stdout",
     "output_type": "stream",
     "text": [
      "Enter any number:5\n",
      "The factorial of the number is 120\n"
     ]
    }
   ],
   "source": [
    "number = int(input('Enter any number:'))\n",
    "factorial=1\n",
    "if number<0:\n",
    "    print('Enter a positive value of number')\n",
    "elif number==0:\n",
    "    print('The factorial of 0 is 1')\n",
    "else:\n",
    "    for i in range(1, number+1):\n",
    "            factorial=factorial*i\n",
    "\n",
    "    print('The factorial of the number is', factorial)"
   ]
  },
  {
   "cell_type": "markdown",
   "id": "48bf9df1",
   "metadata": {},
   "source": [
    "# 12. Write a python program to find whether a number is prime or composite. "
   ]
  },
  {
   "cell_type": "code",
   "execution_count": 3,
   "id": "0c12de09",
   "metadata": {},
   "outputs": [
    {
     "name": "stdout",
     "output_type": "stream",
     "text": [
      "Enter any number--6\n",
      "Number is composite\n"
     ]
    }
   ],
   "source": [
    "n=int(input('Enter any number--'))\n",
    "if (n==0 or n==1):\n",
    "    print('Number is not prime nor composite')\n",
    "elif n>1:\n",
    "    for i in range(2,n):\n",
    "        if(n%i==0):\n",
    "            print('Number is composite')\n",
    "            break\n",
    "    else:\n",
    "        print('Number is prime')\n",
    "else:\n",
    "    print('Please enter any positive number only')"
   ]
  },
  {
   "cell_type": "markdown",
   "id": "bd415d44",
   "metadata": {},
   "source": [
    "# 13. Write a python program to check whether a given string is palindrome or not. "
   ]
  },
  {
   "cell_type": "code",
   "execution_count": 4,
   "id": "c8351a9c",
   "metadata": {},
   "outputs": [
    {
     "name": "stdout",
     "output_type": "stream",
     "text": [
      "Enter any string=pip\n",
      "String is palindrome\n"
     ]
    }
   ],
   "source": [
    "s=str(input('Enter any string='))\n",
    "\n",
    "def ispalindrome(s):\n",
    "    if (s==s[::-1]):\n",
    "        print(\"String is palindrome\")\n",
    "    else:\n",
    "        print(\"string is not palindrome\")\n",
    "        \n",
    "ispalindrome(s)"
   ]
  },
  {
   "cell_type": "markdown",
   "id": "5483d102",
   "metadata": {},
   "source": [
    "# 14. Write a Python program to get the third side of right-angled triangle from two given sides. "
   ]
  },
  {
   "cell_type": "code",
   "execution_count": 5,
   "id": "a39da66f",
   "metadata": {},
   "outputs": [
    {
     "name": "stdout",
     "output_type": "stream",
     "text": [
      "hypotenuse=5.0\n",
      "adjacent_side=4.0\n",
      "opposite_side=3.0\n"
     ]
    }
   ],
   "source": [
    "def pythagoras(opposite_side,adjacent_side,hypotenuse):\n",
    "        if hypotenuse==str(\"x\"):\n",
    "            return(\"hypotenuse=\" +str(((adjacent_side**2) + (opposite_side**2))**0.5))\n",
    "        elif adjacent_side==str(\"x\"):\n",
    "            return(\"adjacent_side=\" +str(((hypotenuse**2)-(opposite_side**2))**0.5))\n",
    "        elif opposite_side==str(\"x\"):\n",
    "            return(\"opposite_side=\" +str(((hypotenuse**2)-(adjacent_side**2))**0.5))\n",
    "        else:\n",
    "            return \"The answer is above\"\n",
    "        \n",
    "print(pythagoras(3,4,'x'))\n",
    "print(pythagoras(3,'x',5))\n",
    "print(pythagoras('x',4,5))"
   ]
  },
  {
   "cell_type": "markdown",
   "id": "0268008b",
   "metadata": {},
   "source": [
    "# 15. Write a python program to print the frequency of each of the characters present in a given string."
   ]
  },
  {
   "cell_type": "code",
   "execution_count": 6,
   "id": "225bf59a",
   "metadata": {},
   "outputs": [
    {
     "name": "stdout",
     "output_type": "stream",
     "text": [
      "Enter any string=goibibo\n",
      "{'g': 1, 'o': 2, 'i': 2, 'b': 2}\n"
     ]
    }
   ],
   "source": [
    "s=str(input('Enter any string='))\n",
    "\n",
    "d={}\n",
    "for i in s:\n",
    "    if i in d:\n",
    "        d[i]=d[i]+1\n",
    "    else:\n",
    "        d[i]=1\n",
    "print(d)"
   ]
  },
  {
   "cell_type": "code",
   "execution_count": null,
   "id": "7cd2e6e0",
   "metadata": {},
   "outputs": [],
   "source": []
  }
 ],
 "metadata": {
  "kernelspec": {
   "display_name": "Python 3 (ipykernel)",
   "language": "python",
   "name": "python3"
  },
  "language_info": {
   "codemirror_mode": {
    "name": "ipython",
    "version": 3
   },
   "file_extension": ".py",
   "mimetype": "text/x-python",
   "name": "python",
   "nbconvert_exporter": "python",
   "pygments_lexer": "ipython3",
   "version": "3.7.3"
  }
 },
 "nbformat": 4,
 "nbformat_minor": 5
}
